{
 "cells": [
  {
   "cell_type": "markdown",
   "metadata": {},
   "source": [
    "## scattter plot for deaths vs Confiremd cases"
   ]
  },
  {
   "cell_type": "code",
   "execution_count": 3,
   "metadata": {},
   "outputs": [
    {
     "data": {
      "text/html": [
       "        <script type=\"text/javascript\">\n",
       "        window.PlotlyConfig = {MathJaxConfig: 'local'};\n",
       "        if (window.MathJax) {MathJax.Hub.Config({SVG: {font: \"STIX-Web\"}});}\n",
       "        if (typeof require !== 'undefined') {\n",
       "        require.undef(\"plotly\");\n",
       "        requirejs.config({\n",
       "            paths: {\n",
       "                'plotly': ['https://cdn.plot.ly/plotly-latest.min']\n",
       "            }\n",
       "        });\n",
       "        require(['plotly'], function(Plotly) {\n",
       "            window._Plotly = Plotly;\n",
       "        });\n",
       "        }\n",
       "        </script>\n",
       "        "
      ]
     },
     "metadata": {},
     "output_type": "display_data"
    }
   ],
   "source": [
    "import plotly.express as px # plot data in canvas\n",
    "import plotly.graph_objects as go\n",
    "import plotly.figure_factory as ff # for setting asthetics\n",
    "from plotly.subplots import make_subplots # to plot in multipple subplots\n",
    "\n",
    "import folium\n",
    "import pandas as pd\n",
    "import numpy as np\n",
    "import matplotlib.pyplot as plt\n",
    "\n",
    "%matplotlib inline\n",
    "import math\n",
    "import random\n",
    "from datetime import timedelta # to generate custom dates \n",
    "\n",
    "import warnings \n",
    "warnings.filterwarnings('ignore')\n",
    "\n",
    "# color pallette\n",
    "cnf = '#393e46'\n",
    "dth = '#ff2e63'\n",
    "rec = '#21bf73'\n",
    "act = '#fe9801'\n",
    "\n",
    "import plotly as py\n",
    "py.offline.init_notebook_mode(connected = True)"
   ]
  },
  {
   "cell_type": "code",
   "execution_count": 4,
   "metadata": {},
   "outputs": [],
   "source": [
    "df = pd.read_csv('covid_19_data_cleaned.csv',parse_dates=['Date'])\n",
    "countrywise = pd.read_csv('countrywise.csv')\n",
    "daywise = pd.read_csv('daywise.csv',parse_dates=['Date'])\n",
    "country_daywise = pd.read_csv('country_daywise.csv',parse_dates=['Date'])"
   ]
  },
  {
   "cell_type": "code",
   "execution_count": 6,
   "metadata": {},
   "outputs": [],
   "source": [
    "top = 15"
   ]
  },
  {
   "cell_type": "code",
   "execution_count": 9,
   "metadata": {},
   "outputs": [
    {
     "data": {
      "application/vnd.plotly.v1+json": {
       "config": {
        "plotlyServerURL": "https://plot.ly"
       },
       "data": [
        {
         "hovertemplate": "Country=%{text}<br>Confirmed=%{marker.size}<br>Deaths=%{y}<extra></extra>",
         "legendgroup": "US",
         "marker": {
          "color": "#636efa",
          "size": [
           3117946
          ],
          "sizemode": "area",
          "sizeref": 7794.865,
          "symbol": "circle"
         },
         "mode": "markers+text",
         "name": "US",
         "orientation": "v",
         "showlegend": true,
         "text": [
          "US"
         ],
         "textposition": "top center",
         "type": "scatter",
         "x": [
          3117946
         ],
         "xaxis": "x",
         "y": [
          133290
         ],
         "yaxis": "y"
        },
        {
         "hovertemplate": "Country=%{text}<br>Confirmed=%{marker.size}<br>Deaths=%{y}<extra></extra>",
         "legendgroup": "Brazil",
         "marker": {
          "color": "#EF553B",
          "size": [
           1755779
          ],
          "sizemode": "area",
          "sizeref": 7794.865,
          "symbol": "circle"
         },
         "mode": "markers+text",
         "name": "Brazil",
         "orientation": "v",
         "showlegend": true,
         "text": [
          "Brazil"
         ],
         "textposition": "top center",
         "type": "scatter",
         "x": [
          1755779
         ],
         "xaxis": "x",
         "y": [
          69184
         ],
         "yaxis": "y"
        },
        {
         "hovertemplate": "Country=%{text}<br>Confirmed=%{marker.size}<br>Deaths=%{y}<extra></extra>",
         "legendgroup": "United Kingdom",
         "marker": {
          "color": "#00cc96",
          "size": [
           289154
          ],
          "sizemode": "area",
          "sizeref": 7794.865,
          "symbol": "circle"
         },
         "mode": "markers+text",
         "name": "United Kingdom",
         "orientation": "v",
         "showlegend": true,
         "text": [
          "United Kingdom"
         ],
         "textposition": "top center",
         "type": "scatter",
         "x": [
          289154
         ],
         "xaxis": "x",
         "y": [
          44687
         ],
         "yaxis": "y"
        },
        {
         "hovertemplate": "Country=%{text}<br>Confirmed=%{marker.size}<br>Deaths=%{y}<extra></extra>",
         "legendgroup": "Italy",
         "marker": {
          "color": "#ab63fa",
          "size": [
           242363
          ],
          "sizemode": "area",
          "sizeref": 7794.865,
          "symbol": "circle"
         },
         "mode": "markers+text",
         "name": "Italy",
         "orientation": "v",
         "showlegend": true,
         "text": [
          "Italy"
         ],
         "textposition": "top center",
         "type": "scatter",
         "x": [
          242363
         ],
         "xaxis": "x",
         "y": [
          34926
         ],
         "yaxis": "y"
        },
        {
         "hovertemplate": "Country=%{text}<br>Confirmed=%{marker.size}<br>Deaths=%{y}<extra></extra>",
         "legendgroup": "Mexico",
         "marker": {
          "color": "#FFA15A",
          "size": [
           282283
          ],
          "sizemode": "area",
          "sizeref": 7794.865,
          "symbol": "circle"
         },
         "mode": "markers+text",
         "name": "Mexico",
         "orientation": "v",
         "showlegend": true,
         "text": [
          "Mexico"
         ],
         "textposition": "top center",
         "type": "scatter",
         "x": [
          282283
         ],
         "xaxis": "x",
         "y": [
          33526
         ],
         "yaxis": "y"
        },
        {
         "hovertemplate": "Country=%{text}<br>Confirmed=%{marker.size}<br>Deaths=%{y}<extra></extra>",
         "legendgroup": "France",
         "marker": {
          "color": "#19d3f3",
          "size": [
           207356
          ],
          "sizemode": "area",
          "sizeref": 7794.865,
          "symbol": "circle"
         },
         "mode": "markers+text",
         "name": "France",
         "orientation": "v",
         "showlegend": true,
         "text": [
          "France"
         ],
         "textposition": "top center",
         "type": "scatter",
         "x": [
          207356
         ],
         "xaxis": "x",
         "y": [
          29982
         ],
         "yaxis": "y"
        },
        {
         "hovertemplate": "Country=%{text}<br>Confirmed=%{marker.size}<br>Deaths=%{y}<extra></extra>",
         "legendgroup": "Spain",
         "marker": {
          "color": "#FF6692",
          "size": [
           253056
          ],
          "sizemode": "area",
          "sizeref": 7794.865,
          "symbol": "circle"
         },
         "mode": "markers+text",
         "name": "Spain",
         "orientation": "v",
         "showlegend": true,
         "text": [
          "Spain"
         ],
         "textposition": "top center",
         "type": "scatter",
         "x": [
          253056
         ],
         "xaxis": "x",
         "y": [
          28401
         ],
         "yaxis": "y"
        },
        {
         "hovertemplate": "Country=%{text}<br>Confirmed=%{marker.size}<br>Deaths=%{y}<extra></extra>",
         "legendgroup": "India",
         "marker": {
          "color": "#B6E880",
          "size": [
           793802
          ],
          "sizemode": "area",
          "sizeref": 7794.865,
          "symbol": "circle"
         },
         "mode": "markers+text",
         "name": "India",
         "orientation": "v",
         "showlegend": true,
         "text": [
          "India"
         ],
         "textposition": "top center",
         "type": "scatter",
         "x": [
          793802
         ],
         "xaxis": "x",
         "y": [
          21604
         ],
         "yaxis": "y"
        },
        {
         "hovertemplate": "Country=%{text}<br>Confirmed=%{marker.size}<br>Deaths=%{y}<extra></extra>",
         "legendgroup": "Iran",
         "marker": {
          "color": "#FF97FF",
          "size": [
           250458
          ],
          "sizemode": "area",
          "sizeref": 7794.865,
          "symbol": "circle"
         },
         "mode": "markers+text",
         "name": "Iran",
         "orientation": "v",
         "showlegend": true,
         "text": [
          "Iran"
         ],
         "textposition": "top center",
         "type": "scatter",
         "x": [
          250458
         ],
         "xaxis": "x",
         "y": [
          12305
         ],
         "yaxis": "y"
        },
        {
         "hovertemplate": "Country=%{text}<br>Confirmed=%{marker.size}<br>Deaths=%{y}<extra></extra>",
         "legendgroup": "Peru",
         "marker": {
          "color": "#FECB52",
          "size": [
           316448
          ],
          "sizemode": "area",
          "sizeref": 7794.865,
          "symbol": "circle"
         },
         "mode": "markers+text",
         "name": "Peru",
         "orientation": "v",
         "showlegend": true,
         "text": [
          "Peru"
         ],
         "textposition": "top center",
         "type": "scatter",
         "x": [
          316448
         ],
         "xaxis": "x",
         "y": [
          11314
         ],
         "yaxis": "y"
        },
        {
         "hovertemplate": "Country=%{text}<br>Confirmed=%{marker.size}<br>Deaths=%{y}<extra></extra>",
         "legendgroup": "Russia",
         "marker": {
          "color": "#636efa",
          "size": [
           706240
          ],
          "sizemode": "area",
          "sizeref": 7794.865,
          "symbol": "circle"
         },
         "mode": "markers+text",
         "name": "Russia",
         "orientation": "v",
         "showlegend": true,
         "text": [
          "Russia"
         ],
         "textposition": "top center",
         "type": "scatter",
         "x": [
          706240
         ],
         "xaxis": "x",
         "y": [
          10826
         ],
         "yaxis": "y"
        },
        {
         "hovertemplate": "Country=%{text}<br>Confirmed=%{marker.size}<br>Deaths=%{y}<extra></extra>",
         "legendgroup": "Belgium",
         "marker": {
          "color": "#EF553B",
          "size": [
           62210
          ],
          "sizemode": "area",
          "sizeref": 7794.865,
          "symbol": "circle"
         },
         "mode": "markers+text",
         "name": "Belgium",
         "orientation": "v",
         "showlegend": true,
         "text": [
          "Belgium"
         ],
         "textposition": "top center",
         "type": "scatter",
         "x": [
          62210
         ],
         "xaxis": "x",
         "y": [
          9778
         ],
         "yaxis": "y"
        },
        {
         "hovertemplate": "Country=%{text}<br>Confirmed=%{marker.size}<br>Deaths=%{y}<extra></extra>",
         "legendgroup": "Germany",
         "marker": {
          "color": "#00cc96",
          "size": [
           199001
          ],
          "sizemode": "area",
          "sizeref": 7794.865,
          "symbol": "circle"
         },
         "mode": "markers+text",
         "name": "Germany",
         "orientation": "v",
         "showlegend": true,
         "text": [
          "Germany"
         ],
         "textposition": "top center",
         "type": "scatter",
         "x": [
          199001
         ],
         "xaxis": "x",
         "y": [
          9057
         ],
         "yaxis": "y"
        },
        {
         "hovertemplate": "Country=%{text}<br>Confirmed=%{marker.size}<br>Deaths=%{y}<extra></extra>",
         "legendgroup": "Canada",
         "marker": {
          "color": "#ab63fa",
          "size": [
           108656
          ],
          "sizemode": "area",
          "sizeref": 7794.865,
          "symbol": "circle"
         },
         "mode": "markers+text",
         "name": "Canada",
         "orientation": "v",
         "showlegend": true,
         "text": [
          "Canada"
         ],
         "textposition": "top center",
         "type": "scatter",
         "x": [
          108656
         ],
         "xaxis": "x",
         "y": [
          8797
         ],
         "yaxis": "y"
        },
        {
         "hovertemplate": "Country=%{text}<br>Confirmed=%{marker.size}<br>Deaths=%{y}<extra></extra>",
         "legendgroup": "Chile",
         "marker": {
          "color": "#FFA15A",
          "size": [
           306216
          ],
          "sizemode": "area",
          "sizeref": 7794.865,
          "symbol": "circle"
         },
         "mode": "markers+text",
         "name": "Chile",
         "orientation": "v",
         "showlegend": true,
         "text": [
          "Chile"
         ],
         "textposition": "top center",
         "type": "scatter",
         "x": [
          306216
         ],
         "xaxis": "x",
         "y": [
          6682
         ],
         "yaxis": "y"
        }
       ],
       "layout": {
        "height": 700,
        "legend": {
         "itemsizing": "constant",
         "title": {
          "text": "Country"
         },
         "tracegroupgap": 0
        },
        "showlegend": true,
        "template": {
         "data": {
          "bar": [
           {
            "error_x": {
             "color": "#2a3f5f"
            },
            "error_y": {
             "color": "#2a3f5f"
            },
            "marker": {
             "line": {
              "color": "#E5ECF6",
              "width": 0.5
             }
            },
            "type": "bar"
           }
          ],
          "barpolar": [
           {
            "marker": {
             "line": {
              "color": "#E5ECF6",
              "width": 0.5
             }
            },
            "type": "barpolar"
           }
          ],
          "carpet": [
           {
            "aaxis": {
             "endlinecolor": "#2a3f5f",
             "gridcolor": "white",
             "linecolor": "white",
             "minorgridcolor": "white",
             "startlinecolor": "#2a3f5f"
            },
            "baxis": {
             "endlinecolor": "#2a3f5f",
             "gridcolor": "white",
             "linecolor": "white",
             "minorgridcolor": "white",
             "startlinecolor": "#2a3f5f"
            },
            "type": "carpet"
           }
          ],
          "choropleth": [
           {
            "colorbar": {
             "outlinewidth": 0,
             "ticks": ""
            },
            "type": "choropleth"
           }
          ],
          "contour": [
           {
            "colorbar": {
             "outlinewidth": 0,
             "ticks": ""
            },
            "colorscale": [
             [
              0,
              "#0d0887"
             ],
             [
              0.1111111111111111,
              "#46039f"
             ],
             [
              0.2222222222222222,
              "#7201a8"
             ],
             [
              0.3333333333333333,
              "#9c179e"
             ],
             [
              0.4444444444444444,
              "#bd3786"
             ],
             [
              0.5555555555555556,
              "#d8576b"
             ],
             [
              0.6666666666666666,
              "#ed7953"
             ],
             [
              0.7777777777777778,
              "#fb9f3a"
             ],
             [
              0.8888888888888888,
              "#fdca26"
             ],
             [
              1,
              "#f0f921"
             ]
            ],
            "type": "contour"
           }
          ],
          "contourcarpet": [
           {
            "colorbar": {
             "outlinewidth": 0,
             "ticks": ""
            },
            "type": "contourcarpet"
           }
          ],
          "heatmap": [
           {
            "colorbar": {
             "outlinewidth": 0,
             "ticks": ""
            },
            "colorscale": [
             [
              0,
              "#0d0887"
             ],
             [
              0.1111111111111111,
              "#46039f"
             ],
             [
              0.2222222222222222,
              "#7201a8"
             ],
             [
              0.3333333333333333,
              "#9c179e"
             ],
             [
              0.4444444444444444,
              "#bd3786"
             ],
             [
              0.5555555555555556,
              "#d8576b"
             ],
             [
              0.6666666666666666,
              "#ed7953"
             ],
             [
              0.7777777777777778,
              "#fb9f3a"
             ],
             [
              0.8888888888888888,
              "#fdca26"
             ],
             [
              1,
              "#f0f921"
             ]
            ],
            "type": "heatmap"
           }
          ],
          "heatmapgl": [
           {
            "colorbar": {
             "outlinewidth": 0,
             "ticks": ""
            },
            "colorscale": [
             [
              0,
              "#0d0887"
             ],
             [
              0.1111111111111111,
              "#46039f"
             ],
             [
              0.2222222222222222,
              "#7201a8"
             ],
             [
              0.3333333333333333,
              "#9c179e"
             ],
             [
              0.4444444444444444,
              "#bd3786"
             ],
             [
              0.5555555555555556,
              "#d8576b"
             ],
             [
              0.6666666666666666,
              "#ed7953"
             ],
             [
              0.7777777777777778,
              "#fb9f3a"
             ],
             [
              0.8888888888888888,
              "#fdca26"
             ],
             [
              1,
              "#f0f921"
             ]
            ],
            "type": "heatmapgl"
           }
          ],
          "histogram": [
           {
            "marker": {
             "colorbar": {
              "outlinewidth": 0,
              "ticks": ""
             }
            },
            "type": "histogram"
           }
          ],
          "histogram2d": [
           {
            "colorbar": {
             "outlinewidth": 0,
             "ticks": ""
            },
            "colorscale": [
             [
              0,
              "#0d0887"
             ],
             [
              0.1111111111111111,
              "#46039f"
             ],
             [
              0.2222222222222222,
              "#7201a8"
             ],
             [
              0.3333333333333333,
              "#9c179e"
             ],
             [
              0.4444444444444444,
              "#bd3786"
             ],
             [
              0.5555555555555556,
              "#d8576b"
             ],
             [
              0.6666666666666666,
              "#ed7953"
             ],
             [
              0.7777777777777778,
              "#fb9f3a"
             ],
             [
              0.8888888888888888,
              "#fdca26"
             ],
             [
              1,
              "#f0f921"
             ]
            ],
            "type": "histogram2d"
           }
          ],
          "histogram2dcontour": [
           {
            "colorbar": {
             "outlinewidth": 0,
             "ticks": ""
            },
            "colorscale": [
             [
              0,
              "#0d0887"
             ],
             [
              0.1111111111111111,
              "#46039f"
             ],
             [
              0.2222222222222222,
              "#7201a8"
             ],
             [
              0.3333333333333333,
              "#9c179e"
             ],
             [
              0.4444444444444444,
              "#bd3786"
             ],
             [
              0.5555555555555556,
              "#d8576b"
             ],
             [
              0.6666666666666666,
              "#ed7953"
             ],
             [
              0.7777777777777778,
              "#fb9f3a"
             ],
             [
              0.8888888888888888,
              "#fdca26"
             ],
             [
              1,
              "#f0f921"
             ]
            ],
            "type": "histogram2dcontour"
           }
          ],
          "mesh3d": [
           {
            "colorbar": {
             "outlinewidth": 0,
             "ticks": ""
            },
            "type": "mesh3d"
           }
          ],
          "parcoords": [
           {
            "line": {
             "colorbar": {
              "outlinewidth": 0,
              "ticks": ""
             }
            },
            "type": "parcoords"
           }
          ],
          "pie": [
           {
            "automargin": true,
            "type": "pie"
           }
          ],
          "scatter": [
           {
            "marker": {
             "colorbar": {
              "outlinewidth": 0,
              "ticks": ""
             }
            },
            "type": "scatter"
           }
          ],
          "scatter3d": [
           {
            "line": {
             "colorbar": {
              "outlinewidth": 0,
              "ticks": ""
             }
            },
            "marker": {
             "colorbar": {
              "outlinewidth": 0,
              "ticks": ""
             }
            },
            "type": "scatter3d"
           }
          ],
          "scattercarpet": [
           {
            "marker": {
             "colorbar": {
              "outlinewidth": 0,
              "ticks": ""
             }
            },
            "type": "scattercarpet"
           }
          ],
          "scattergeo": [
           {
            "marker": {
             "colorbar": {
              "outlinewidth": 0,
              "ticks": ""
             }
            },
            "type": "scattergeo"
           }
          ],
          "scattergl": [
           {
            "marker": {
             "colorbar": {
              "outlinewidth": 0,
              "ticks": ""
             }
            },
            "type": "scattergl"
           }
          ],
          "scattermapbox": [
           {
            "marker": {
             "colorbar": {
              "outlinewidth": 0,
              "ticks": ""
             }
            },
            "type": "scattermapbox"
           }
          ],
          "scatterpolar": [
           {
            "marker": {
             "colorbar": {
              "outlinewidth": 0,
              "ticks": ""
             }
            },
            "type": "scatterpolar"
           }
          ],
          "scatterpolargl": [
           {
            "marker": {
             "colorbar": {
              "outlinewidth": 0,
              "ticks": ""
             }
            },
            "type": "scatterpolargl"
           }
          ],
          "scatterternary": [
           {
            "marker": {
             "colorbar": {
              "outlinewidth": 0,
              "ticks": ""
             }
            },
            "type": "scatterternary"
           }
          ],
          "surface": [
           {
            "colorbar": {
             "outlinewidth": 0,
             "ticks": ""
            },
            "colorscale": [
             [
              0,
              "#0d0887"
             ],
             [
              0.1111111111111111,
              "#46039f"
             ],
             [
              0.2222222222222222,
              "#7201a8"
             ],
             [
              0.3333333333333333,
              "#9c179e"
             ],
             [
              0.4444444444444444,
              "#bd3786"
             ],
             [
              0.5555555555555556,
              "#d8576b"
             ],
             [
              0.6666666666666666,
              "#ed7953"
             ],
             [
              0.7777777777777778,
              "#fb9f3a"
             ],
             [
              0.8888888888888888,
              "#fdca26"
             ],
             [
              1,
              "#f0f921"
             ]
            ],
            "type": "surface"
           }
          ],
          "table": [
           {
            "cells": {
             "fill": {
              "color": "#EBF0F8"
             },
             "line": {
              "color": "white"
             }
            },
            "header": {
             "fill": {
              "color": "#C8D4E3"
             },
             "line": {
              "color": "white"
             }
            },
            "type": "table"
           }
          ]
         },
         "layout": {
          "annotationdefaults": {
           "arrowcolor": "#2a3f5f",
           "arrowhead": 0,
           "arrowwidth": 1
          },
          "coloraxis": {
           "colorbar": {
            "outlinewidth": 0,
            "ticks": ""
           }
          },
          "colorscale": {
           "diverging": [
            [
             0,
             "#8e0152"
            ],
            [
             0.1,
             "#c51b7d"
            ],
            [
             0.2,
             "#de77ae"
            ],
            [
             0.3,
             "#f1b6da"
            ],
            [
             0.4,
             "#fde0ef"
            ],
            [
             0.5,
             "#f7f7f7"
            ],
            [
             0.6,
             "#e6f5d0"
            ],
            [
             0.7,
             "#b8e186"
            ],
            [
             0.8,
             "#7fbc41"
            ],
            [
             0.9,
             "#4d9221"
            ],
            [
             1,
             "#276419"
            ]
           ],
           "sequential": [
            [
             0,
             "#0d0887"
            ],
            [
             0.1111111111111111,
             "#46039f"
            ],
            [
             0.2222222222222222,
             "#7201a8"
            ],
            [
             0.3333333333333333,
             "#9c179e"
            ],
            [
             0.4444444444444444,
             "#bd3786"
            ],
            [
             0.5555555555555556,
             "#d8576b"
            ],
            [
             0.6666666666666666,
             "#ed7953"
            ],
            [
             0.7777777777777778,
             "#fb9f3a"
            ],
            [
             0.8888888888888888,
             "#fdca26"
            ],
            [
             1,
             "#f0f921"
            ]
           ],
           "sequentialminus": [
            [
             0,
             "#0d0887"
            ],
            [
             0.1111111111111111,
             "#46039f"
            ],
            [
             0.2222222222222222,
             "#7201a8"
            ],
            [
             0.3333333333333333,
             "#9c179e"
            ],
            [
             0.4444444444444444,
             "#bd3786"
            ],
            [
             0.5555555555555556,
             "#d8576b"
            ],
            [
             0.6666666666666666,
             "#ed7953"
            ],
            [
             0.7777777777777778,
             "#fb9f3a"
            ],
            [
             0.8888888888888888,
             "#fdca26"
            ],
            [
             1,
             "#f0f921"
            ]
           ]
          },
          "colorway": [
           "#636efa",
           "#EF553B",
           "#00cc96",
           "#ab63fa",
           "#FFA15A",
           "#19d3f3",
           "#FF6692",
           "#B6E880",
           "#FF97FF",
           "#FECB52"
          ],
          "font": {
           "color": "#2a3f5f"
          },
          "geo": {
           "bgcolor": "white",
           "lakecolor": "white",
           "landcolor": "#E5ECF6",
           "showlakes": true,
           "showland": true,
           "subunitcolor": "white"
          },
          "hoverlabel": {
           "align": "left"
          },
          "hovermode": "closest",
          "mapbox": {
           "style": "light"
          },
          "paper_bgcolor": "white",
          "plot_bgcolor": "#E5ECF6",
          "polar": {
           "angularaxis": {
            "gridcolor": "white",
            "linecolor": "white",
            "ticks": ""
           },
           "bgcolor": "#E5ECF6",
           "radialaxis": {
            "gridcolor": "white",
            "linecolor": "white",
            "ticks": ""
           }
          },
          "scene": {
           "xaxis": {
            "backgroundcolor": "#E5ECF6",
            "gridcolor": "white",
            "gridwidth": 2,
            "linecolor": "white",
            "showbackground": true,
            "ticks": "",
            "zerolinecolor": "white"
           },
           "yaxis": {
            "backgroundcolor": "#E5ECF6",
            "gridcolor": "white",
            "gridwidth": 2,
            "linecolor": "white",
            "showbackground": true,
            "ticks": "",
            "zerolinecolor": "white"
           },
           "zaxis": {
            "backgroundcolor": "#E5ECF6",
            "gridcolor": "white",
            "gridwidth": 2,
            "linecolor": "white",
            "showbackground": true,
            "ticks": "",
            "zerolinecolor": "white"
           }
          },
          "shapedefaults": {
           "line": {
            "color": "#2a3f5f"
           }
          },
          "ternary": {
           "aaxis": {
            "gridcolor": "white",
            "linecolor": "white",
            "ticks": ""
           },
           "baxis": {
            "gridcolor": "white",
            "linecolor": "white",
            "ticks": ""
           },
           "bgcolor": "#E5ECF6",
           "caxis": {
            "gridcolor": "white",
            "linecolor": "white",
            "ticks": ""
           }
          },
          "title": {
           "x": 0.05
          },
          "xaxis": {
           "automargin": true,
           "gridcolor": "white",
           "linecolor": "white",
           "ticks": "",
           "title": {
            "standoff": 15
           },
           "zerolinecolor": "white",
           "zerolinewidth": 2
          },
          "yaxis": {
           "automargin": true,
           "gridcolor": "white",
           "linecolor": "white",
           "ticks": "",
           "title": {
            "standoff": 15
           },
           "zerolinecolor": "white",
           "zerolinewidth": 2
          }
         }
        },
        "title": {
         "text": "Deaths vs confirmed cases"
        },
        "xaxis": {
         "anchor": "y",
         "domain": [
          0,
          1
         ],
         "rangeslider": {
          "visible": true
         },
         "title": {
          "text": "Confirmed"
         },
         "type": "log"
        },
        "yaxis": {
         "anchor": "x",
         "domain": [
          0,
          1
         ],
         "title": {
          "text": "Deaths"
         },
         "type": "log"
        }
       }
      },
      "text/html": [
       "<div>\n",
       "        \n",
       "        \n",
       "            <div id=\"67cb0aee-3085-49f2-ba55-4624a2fe7ad0\" class=\"plotly-graph-div\" style=\"height:700px; width:100%;\"></div>\n",
       "            <script type=\"text/javascript\">\n",
       "                require([\"plotly\"], function(Plotly) {\n",
       "                    window.PLOTLYENV=window.PLOTLYENV || {};\n",
       "                    \n",
       "                if (document.getElementById(\"67cb0aee-3085-49f2-ba55-4624a2fe7ad0\")) {\n",
       "                    Plotly.newPlot(\n",
       "                        '67cb0aee-3085-49f2-ba55-4624a2fe7ad0',\n",
       "                        [{\"hovertemplate\": \"Country=%{text}<br>Confirmed=%{marker.size}<br>Deaths=%{y}<extra></extra>\", \"legendgroup\": \"US\", \"marker\": {\"color\": \"#636efa\", \"size\": [3117946], \"sizemode\": \"area\", \"sizeref\": 7794.865, \"symbol\": \"circle\"}, \"mode\": \"markers+text\", \"name\": \"US\", \"orientation\": \"v\", \"showlegend\": true, \"text\": [\"US\"], \"textposition\": \"top center\", \"type\": \"scatter\", \"x\": [3117946], \"xaxis\": \"x\", \"y\": [133290], \"yaxis\": \"y\"}, {\"hovertemplate\": \"Country=%{text}<br>Confirmed=%{marker.size}<br>Deaths=%{y}<extra></extra>\", \"legendgroup\": \"Brazil\", \"marker\": {\"color\": \"#EF553B\", \"size\": [1755779], \"sizemode\": \"area\", \"sizeref\": 7794.865, \"symbol\": \"circle\"}, \"mode\": \"markers+text\", \"name\": \"Brazil\", \"orientation\": \"v\", \"showlegend\": true, \"text\": [\"Brazil\"], \"textposition\": \"top center\", \"type\": \"scatter\", \"x\": [1755779], \"xaxis\": \"x\", \"y\": [69184], \"yaxis\": \"y\"}, {\"hovertemplate\": \"Country=%{text}<br>Confirmed=%{marker.size}<br>Deaths=%{y}<extra></extra>\", \"legendgroup\": \"United Kingdom\", \"marker\": {\"color\": \"#00cc96\", \"size\": [289154], \"sizemode\": \"area\", \"sizeref\": 7794.865, \"symbol\": \"circle\"}, \"mode\": \"markers+text\", \"name\": \"United Kingdom\", \"orientation\": \"v\", \"showlegend\": true, \"text\": [\"United Kingdom\"], \"textposition\": \"top center\", \"type\": \"scatter\", \"x\": [289154], \"xaxis\": \"x\", \"y\": [44687], \"yaxis\": \"y\"}, {\"hovertemplate\": \"Country=%{text}<br>Confirmed=%{marker.size}<br>Deaths=%{y}<extra></extra>\", \"legendgroup\": \"Italy\", \"marker\": {\"color\": \"#ab63fa\", \"size\": [242363], \"sizemode\": \"area\", \"sizeref\": 7794.865, \"symbol\": \"circle\"}, \"mode\": \"markers+text\", \"name\": \"Italy\", \"orientation\": \"v\", \"showlegend\": true, \"text\": [\"Italy\"], \"textposition\": \"top center\", \"type\": \"scatter\", \"x\": [242363], \"xaxis\": \"x\", \"y\": [34926], \"yaxis\": \"y\"}, {\"hovertemplate\": \"Country=%{text}<br>Confirmed=%{marker.size}<br>Deaths=%{y}<extra></extra>\", \"legendgroup\": \"Mexico\", \"marker\": {\"color\": \"#FFA15A\", \"size\": [282283], \"sizemode\": \"area\", \"sizeref\": 7794.865, \"symbol\": \"circle\"}, \"mode\": \"markers+text\", \"name\": \"Mexico\", \"orientation\": \"v\", \"showlegend\": true, \"text\": [\"Mexico\"], \"textposition\": \"top center\", \"type\": \"scatter\", \"x\": [282283], \"xaxis\": \"x\", \"y\": [33526], \"yaxis\": \"y\"}, {\"hovertemplate\": \"Country=%{text}<br>Confirmed=%{marker.size}<br>Deaths=%{y}<extra></extra>\", \"legendgroup\": \"France\", \"marker\": {\"color\": \"#19d3f3\", \"size\": [207356], \"sizemode\": \"area\", \"sizeref\": 7794.865, \"symbol\": \"circle\"}, \"mode\": \"markers+text\", \"name\": \"France\", \"orientation\": \"v\", \"showlegend\": true, \"text\": [\"France\"], \"textposition\": \"top center\", \"type\": \"scatter\", \"x\": [207356], \"xaxis\": \"x\", \"y\": [29982], \"yaxis\": \"y\"}, {\"hovertemplate\": \"Country=%{text}<br>Confirmed=%{marker.size}<br>Deaths=%{y}<extra></extra>\", \"legendgroup\": \"Spain\", \"marker\": {\"color\": \"#FF6692\", \"size\": [253056], \"sizemode\": \"area\", \"sizeref\": 7794.865, \"symbol\": \"circle\"}, \"mode\": \"markers+text\", \"name\": \"Spain\", \"orientation\": \"v\", \"showlegend\": true, \"text\": [\"Spain\"], \"textposition\": \"top center\", \"type\": \"scatter\", \"x\": [253056], \"xaxis\": \"x\", \"y\": [28401], \"yaxis\": \"y\"}, {\"hovertemplate\": \"Country=%{text}<br>Confirmed=%{marker.size}<br>Deaths=%{y}<extra></extra>\", \"legendgroup\": \"India\", \"marker\": {\"color\": \"#B6E880\", \"size\": [793802], \"sizemode\": \"area\", \"sizeref\": 7794.865, \"symbol\": \"circle\"}, \"mode\": \"markers+text\", \"name\": \"India\", \"orientation\": \"v\", \"showlegend\": true, \"text\": [\"India\"], \"textposition\": \"top center\", \"type\": \"scatter\", \"x\": [793802], \"xaxis\": \"x\", \"y\": [21604], \"yaxis\": \"y\"}, {\"hovertemplate\": \"Country=%{text}<br>Confirmed=%{marker.size}<br>Deaths=%{y}<extra></extra>\", \"legendgroup\": \"Iran\", \"marker\": {\"color\": \"#FF97FF\", \"size\": [250458], \"sizemode\": \"area\", \"sizeref\": 7794.865, \"symbol\": \"circle\"}, \"mode\": \"markers+text\", \"name\": \"Iran\", \"orientation\": \"v\", \"showlegend\": true, \"text\": [\"Iran\"], \"textposition\": \"top center\", \"type\": \"scatter\", \"x\": [250458], \"xaxis\": \"x\", \"y\": [12305], \"yaxis\": \"y\"}, {\"hovertemplate\": \"Country=%{text}<br>Confirmed=%{marker.size}<br>Deaths=%{y}<extra></extra>\", \"legendgroup\": \"Peru\", \"marker\": {\"color\": \"#FECB52\", \"size\": [316448], \"sizemode\": \"area\", \"sizeref\": 7794.865, \"symbol\": \"circle\"}, \"mode\": \"markers+text\", \"name\": \"Peru\", \"orientation\": \"v\", \"showlegend\": true, \"text\": [\"Peru\"], \"textposition\": \"top center\", \"type\": \"scatter\", \"x\": [316448], \"xaxis\": \"x\", \"y\": [11314], \"yaxis\": \"y\"}, {\"hovertemplate\": \"Country=%{text}<br>Confirmed=%{marker.size}<br>Deaths=%{y}<extra></extra>\", \"legendgroup\": \"Russia\", \"marker\": {\"color\": \"#636efa\", \"size\": [706240], \"sizemode\": \"area\", \"sizeref\": 7794.865, \"symbol\": \"circle\"}, \"mode\": \"markers+text\", \"name\": \"Russia\", \"orientation\": \"v\", \"showlegend\": true, \"text\": [\"Russia\"], \"textposition\": \"top center\", \"type\": \"scatter\", \"x\": [706240], \"xaxis\": \"x\", \"y\": [10826], \"yaxis\": \"y\"}, {\"hovertemplate\": \"Country=%{text}<br>Confirmed=%{marker.size}<br>Deaths=%{y}<extra></extra>\", \"legendgroup\": \"Belgium\", \"marker\": {\"color\": \"#EF553B\", \"size\": [62210], \"sizemode\": \"area\", \"sizeref\": 7794.865, \"symbol\": \"circle\"}, \"mode\": \"markers+text\", \"name\": \"Belgium\", \"orientation\": \"v\", \"showlegend\": true, \"text\": [\"Belgium\"], \"textposition\": \"top center\", \"type\": \"scatter\", \"x\": [62210], \"xaxis\": \"x\", \"y\": [9778], \"yaxis\": \"y\"}, {\"hovertemplate\": \"Country=%{text}<br>Confirmed=%{marker.size}<br>Deaths=%{y}<extra></extra>\", \"legendgroup\": \"Germany\", \"marker\": {\"color\": \"#00cc96\", \"size\": [199001], \"sizemode\": \"area\", \"sizeref\": 7794.865, \"symbol\": \"circle\"}, \"mode\": \"markers+text\", \"name\": \"Germany\", \"orientation\": \"v\", \"showlegend\": true, \"text\": [\"Germany\"], \"textposition\": \"top center\", \"type\": \"scatter\", \"x\": [199001], \"xaxis\": \"x\", \"y\": [9057], \"yaxis\": \"y\"}, {\"hovertemplate\": \"Country=%{text}<br>Confirmed=%{marker.size}<br>Deaths=%{y}<extra></extra>\", \"legendgroup\": \"Canada\", \"marker\": {\"color\": \"#ab63fa\", \"size\": [108656], \"sizemode\": \"area\", \"sizeref\": 7794.865, \"symbol\": \"circle\"}, \"mode\": \"markers+text\", \"name\": \"Canada\", \"orientation\": \"v\", \"showlegend\": true, \"text\": [\"Canada\"], \"textposition\": \"top center\", \"type\": \"scatter\", \"x\": [108656], \"xaxis\": \"x\", \"y\": [8797], \"yaxis\": \"y\"}, {\"hovertemplate\": \"Country=%{text}<br>Confirmed=%{marker.size}<br>Deaths=%{y}<extra></extra>\", \"legendgroup\": \"Chile\", \"marker\": {\"color\": \"#FFA15A\", \"size\": [306216], \"sizemode\": \"area\", \"sizeref\": 7794.865, \"symbol\": \"circle\"}, \"mode\": \"markers+text\", \"name\": \"Chile\", \"orientation\": \"v\", \"showlegend\": true, \"text\": [\"Chile\"], \"textposition\": \"top center\", \"type\": \"scatter\", \"x\": [306216], \"xaxis\": \"x\", \"y\": [6682], \"yaxis\": \"y\"}],\n",
       "                        {\"height\": 700, \"legend\": {\"itemsizing\": \"constant\", \"title\": {\"text\": \"Country\"}, \"tracegroupgap\": 0}, \"showlegend\": true, \"template\": {\"data\": {\"bar\": [{\"error_x\": {\"color\": \"#2a3f5f\"}, \"error_y\": {\"color\": \"#2a3f5f\"}, \"marker\": {\"line\": {\"color\": \"#E5ECF6\", \"width\": 0.5}}, \"type\": \"bar\"}], \"barpolar\": [{\"marker\": {\"line\": {\"color\": \"#E5ECF6\", \"width\": 0.5}}, \"type\": \"barpolar\"}], \"carpet\": [{\"aaxis\": {\"endlinecolor\": \"#2a3f5f\", \"gridcolor\": \"white\", \"linecolor\": \"white\", \"minorgridcolor\": \"white\", \"startlinecolor\": \"#2a3f5f\"}, \"baxis\": {\"endlinecolor\": \"#2a3f5f\", \"gridcolor\": \"white\", \"linecolor\": \"white\", \"minorgridcolor\": \"white\", \"startlinecolor\": \"#2a3f5f\"}, \"type\": \"carpet\"}], \"choropleth\": [{\"colorbar\": {\"outlinewidth\": 0, \"ticks\": \"\"}, \"type\": \"choropleth\"}], \"contour\": [{\"colorbar\": {\"outlinewidth\": 0, \"ticks\": \"\"}, \"colorscale\": [[0.0, \"#0d0887\"], [0.1111111111111111, \"#46039f\"], [0.2222222222222222, \"#7201a8\"], [0.3333333333333333, \"#9c179e\"], [0.4444444444444444, \"#bd3786\"], [0.5555555555555556, \"#d8576b\"], [0.6666666666666666, \"#ed7953\"], [0.7777777777777778, \"#fb9f3a\"], [0.8888888888888888, \"#fdca26\"], [1.0, \"#f0f921\"]], \"type\": \"contour\"}], \"contourcarpet\": [{\"colorbar\": {\"outlinewidth\": 0, \"ticks\": \"\"}, \"type\": \"contourcarpet\"}], \"heatmap\": [{\"colorbar\": {\"outlinewidth\": 0, \"ticks\": \"\"}, \"colorscale\": [[0.0, \"#0d0887\"], [0.1111111111111111, \"#46039f\"], [0.2222222222222222, \"#7201a8\"], [0.3333333333333333, \"#9c179e\"], [0.4444444444444444, \"#bd3786\"], [0.5555555555555556, \"#d8576b\"], [0.6666666666666666, \"#ed7953\"], [0.7777777777777778, \"#fb9f3a\"], [0.8888888888888888, \"#fdca26\"], [1.0, \"#f0f921\"]], \"type\": \"heatmap\"}], \"heatmapgl\": [{\"colorbar\": {\"outlinewidth\": 0, \"ticks\": \"\"}, \"colorscale\": [[0.0, \"#0d0887\"], [0.1111111111111111, \"#46039f\"], [0.2222222222222222, \"#7201a8\"], [0.3333333333333333, \"#9c179e\"], [0.4444444444444444, \"#bd3786\"], [0.5555555555555556, \"#d8576b\"], [0.6666666666666666, \"#ed7953\"], [0.7777777777777778, \"#fb9f3a\"], [0.8888888888888888, \"#fdca26\"], [1.0, \"#f0f921\"]], \"type\": \"heatmapgl\"}], \"histogram\": [{\"marker\": {\"colorbar\": {\"outlinewidth\": 0, \"ticks\": \"\"}}, \"type\": \"histogram\"}], \"histogram2d\": [{\"colorbar\": {\"outlinewidth\": 0, \"ticks\": \"\"}, \"colorscale\": [[0.0, \"#0d0887\"], [0.1111111111111111, \"#46039f\"], [0.2222222222222222, \"#7201a8\"], [0.3333333333333333, \"#9c179e\"], [0.4444444444444444, \"#bd3786\"], [0.5555555555555556, \"#d8576b\"], [0.6666666666666666, \"#ed7953\"], [0.7777777777777778, \"#fb9f3a\"], [0.8888888888888888, \"#fdca26\"], [1.0, \"#f0f921\"]], \"type\": \"histogram2d\"}], \"histogram2dcontour\": [{\"colorbar\": {\"outlinewidth\": 0, \"ticks\": \"\"}, \"colorscale\": [[0.0, \"#0d0887\"], [0.1111111111111111, \"#46039f\"], [0.2222222222222222, \"#7201a8\"], [0.3333333333333333, \"#9c179e\"], [0.4444444444444444, \"#bd3786\"], [0.5555555555555556, \"#d8576b\"], [0.6666666666666666, \"#ed7953\"], [0.7777777777777778, \"#fb9f3a\"], [0.8888888888888888, \"#fdca26\"], [1.0, \"#f0f921\"]], \"type\": \"histogram2dcontour\"}], \"mesh3d\": [{\"colorbar\": {\"outlinewidth\": 0, \"ticks\": \"\"}, \"type\": \"mesh3d\"}], \"parcoords\": [{\"line\": {\"colorbar\": {\"outlinewidth\": 0, \"ticks\": \"\"}}, \"type\": \"parcoords\"}], \"pie\": [{\"automargin\": true, \"type\": \"pie\"}], \"scatter\": [{\"marker\": {\"colorbar\": {\"outlinewidth\": 0, \"ticks\": \"\"}}, \"type\": \"scatter\"}], \"scatter3d\": [{\"line\": {\"colorbar\": {\"outlinewidth\": 0, \"ticks\": \"\"}}, \"marker\": {\"colorbar\": {\"outlinewidth\": 0, \"ticks\": \"\"}}, \"type\": \"scatter3d\"}], \"scattercarpet\": [{\"marker\": {\"colorbar\": {\"outlinewidth\": 0, \"ticks\": \"\"}}, \"type\": \"scattercarpet\"}], \"scattergeo\": [{\"marker\": {\"colorbar\": {\"outlinewidth\": 0, \"ticks\": \"\"}}, \"type\": \"scattergeo\"}], \"scattergl\": [{\"marker\": {\"colorbar\": {\"outlinewidth\": 0, \"ticks\": \"\"}}, \"type\": \"scattergl\"}], \"scattermapbox\": [{\"marker\": {\"colorbar\": {\"outlinewidth\": 0, \"ticks\": \"\"}}, \"type\": \"scattermapbox\"}], \"scatterpolar\": [{\"marker\": {\"colorbar\": {\"outlinewidth\": 0, \"ticks\": \"\"}}, \"type\": \"scatterpolar\"}], \"scatterpolargl\": [{\"marker\": {\"colorbar\": {\"outlinewidth\": 0, \"ticks\": \"\"}}, \"type\": \"scatterpolargl\"}], \"scatterternary\": [{\"marker\": {\"colorbar\": {\"outlinewidth\": 0, \"ticks\": \"\"}}, \"type\": \"scatterternary\"}], \"surface\": [{\"colorbar\": {\"outlinewidth\": 0, \"ticks\": \"\"}, \"colorscale\": [[0.0, \"#0d0887\"], [0.1111111111111111, \"#46039f\"], [0.2222222222222222, \"#7201a8\"], [0.3333333333333333, \"#9c179e\"], [0.4444444444444444, \"#bd3786\"], [0.5555555555555556, \"#d8576b\"], [0.6666666666666666, \"#ed7953\"], [0.7777777777777778, \"#fb9f3a\"], [0.8888888888888888, \"#fdca26\"], [1.0, \"#f0f921\"]], \"type\": \"surface\"}], \"table\": [{\"cells\": {\"fill\": {\"color\": \"#EBF0F8\"}, \"line\": {\"color\": \"white\"}}, \"header\": {\"fill\": {\"color\": \"#C8D4E3\"}, \"line\": {\"color\": \"white\"}}, \"type\": \"table\"}]}, \"layout\": {\"annotationdefaults\": {\"arrowcolor\": \"#2a3f5f\", \"arrowhead\": 0, \"arrowwidth\": 1}, \"coloraxis\": {\"colorbar\": {\"outlinewidth\": 0, \"ticks\": \"\"}}, \"colorscale\": {\"diverging\": [[0, \"#8e0152\"], [0.1, \"#c51b7d\"], [0.2, \"#de77ae\"], [0.3, \"#f1b6da\"], [0.4, \"#fde0ef\"], [0.5, \"#f7f7f7\"], [0.6, \"#e6f5d0\"], [0.7, \"#b8e186\"], [0.8, \"#7fbc41\"], [0.9, \"#4d9221\"], [1, \"#276419\"]], \"sequential\": [[0.0, \"#0d0887\"], [0.1111111111111111, \"#46039f\"], [0.2222222222222222, \"#7201a8\"], [0.3333333333333333, \"#9c179e\"], [0.4444444444444444, \"#bd3786\"], [0.5555555555555556, \"#d8576b\"], [0.6666666666666666, \"#ed7953\"], [0.7777777777777778, \"#fb9f3a\"], [0.8888888888888888, \"#fdca26\"], [1.0, \"#f0f921\"]], \"sequentialminus\": [[0.0, \"#0d0887\"], [0.1111111111111111, \"#46039f\"], [0.2222222222222222, \"#7201a8\"], [0.3333333333333333, \"#9c179e\"], [0.4444444444444444, \"#bd3786\"], [0.5555555555555556, \"#d8576b\"], [0.6666666666666666, \"#ed7953\"], [0.7777777777777778, \"#fb9f3a\"], [0.8888888888888888, \"#fdca26\"], [1.0, \"#f0f921\"]]}, \"colorway\": [\"#636efa\", \"#EF553B\", \"#00cc96\", \"#ab63fa\", \"#FFA15A\", \"#19d3f3\", \"#FF6692\", \"#B6E880\", \"#FF97FF\", \"#FECB52\"], \"font\": {\"color\": \"#2a3f5f\"}, \"geo\": {\"bgcolor\": \"white\", \"lakecolor\": \"white\", \"landcolor\": \"#E5ECF6\", \"showlakes\": true, \"showland\": true, \"subunitcolor\": \"white\"}, \"hoverlabel\": {\"align\": \"left\"}, \"hovermode\": \"closest\", \"mapbox\": {\"style\": \"light\"}, \"paper_bgcolor\": \"white\", \"plot_bgcolor\": \"#E5ECF6\", \"polar\": {\"angularaxis\": {\"gridcolor\": \"white\", \"linecolor\": \"white\", \"ticks\": \"\"}, \"bgcolor\": \"#E5ECF6\", \"radialaxis\": {\"gridcolor\": \"white\", \"linecolor\": \"white\", \"ticks\": \"\"}}, \"scene\": {\"xaxis\": {\"backgroundcolor\": \"#E5ECF6\", \"gridcolor\": \"white\", \"gridwidth\": 2, \"linecolor\": \"white\", \"showbackground\": true, \"ticks\": \"\", \"zerolinecolor\": \"white\"}, \"yaxis\": {\"backgroundcolor\": \"#E5ECF6\", \"gridcolor\": \"white\", \"gridwidth\": 2, \"linecolor\": \"white\", \"showbackground\": true, \"ticks\": \"\", \"zerolinecolor\": \"white\"}, \"zaxis\": {\"backgroundcolor\": \"#E5ECF6\", \"gridcolor\": \"white\", \"gridwidth\": 2, \"linecolor\": \"white\", \"showbackground\": true, \"ticks\": \"\", \"zerolinecolor\": \"white\"}}, \"shapedefaults\": {\"line\": {\"color\": \"#2a3f5f\"}}, \"ternary\": {\"aaxis\": {\"gridcolor\": \"white\", \"linecolor\": \"white\", \"ticks\": \"\"}, \"baxis\": {\"gridcolor\": \"white\", \"linecolor\": \"white\", \"ticks\": \"\"}, \"bgcolor\": \"#E5ECF6\", \"caxis\": {\"gridcolor\": \"white\", \"linecolor\": \"white\", \"ticks\": \"\"}}, \"title\": {\"x\": 0.05}, \"xaxis\": {\"automargin\": true, \"gridcolor\": \"white\", \"linecolor\": \"white\", \"ticks\": \"\", \"title\": {\"standoff\": 15}, \"zerolinecolor\": \"white\", \"zerolinewidth\": 2}, \"yaxis\": {\"automargin\": true, \"gridcolor\": \"white\", \"linecolor\": \"white\", \"ticks\": \"\", \"title\": {\"standoff\": 15}, \"zerolinecolor\": \"white\", \"zerolinewidth\": 2}}}, \"title\": {\"text\": \"Deaths vs confirmed cases\"}, \"xaxis\": {\"anchor\": \"y\", \"domain\": [0.0, 1.0], \"rangeslider\": {\"visible\": true}, \"title\": {\"text\": \"Confirmed\"}, \"type\": \"log\"}, \"yaxis\": {\"anchor\": \"x\", \"domain\": [0.0, 1.0], \"title\": {\"text\": \"Deaths\"}, \"type\": \"log\"}},\n",
       "                        {\"responsive\": true}\n",
       "                    ).then(function(){\n",
       "                            \n",
       "var gd = document.getElementById('67cb0aee-3085-49f2-ba55-4624a2fe7ad0');\n",
       "var x = new MutationObserver(function (mutations, observer) {{\n",
       "        var display = window.getComputedStyle(gd).display;\n",
       "        if (!display || display === 'none') {{\n",
       "            console.log([gd, 'removed!']);\n",
       "            Plotly.purge(gd);\n",
       "            observer.disconnect();\n",
       "        }}\n",
       "}});\n",
       "\n",
       "// Listen for the removal of the full notebook cells\n",
       "var notebookContainer = gd.closest('#notebook-container');\n",
       "if (notebookContainer) {{\n",
       "    x.observe(notebookContainer, {childList: true});\n",
       "}}\n",
       "\n",
       "// Listen for the clearing of the current output cell\n",
       "var outputEl = gd.closest('.output');\n",
       "if (outputEl) {{\n",
       "    x.observe(outputEl, {childList: true});\n",
       "}}\n",
       "\n",
       "                        })\n",
       "                };\n",
       "                });\n",
       "            </script>\n",
       "        </div>"
      ]
     },
     "metadata": {},
     "output_type": "display_data"
    }
   ],
   "source": [
    "fig = px.scatter(countrywise.sort_values('Deaths', ascending =False).head(top),\n",
    "                x = 'Confirmed',y='Deaths',color = 'Country',size = 'Confirmed',height = 700,\n",
    "                text = 'Country', log_x = True,log_y = True,title ='Deaths vs confirmed cases')\n",
    "\n",
    "fig.update_traces(textposition = 'top center')\n",
    "fig.update_layout(showlegend = True)\n",
    "fig.update_layout(xaxis_rangeslider_visible = True)\n",
    "fig.show()"
   ]
  },
  {
   "cell_type": "code",
   "execution_count": 5,
   "metadata": {},
   "outputs": [
    {
     "data": {
      "text/html": [
       "<div>\n",
       "<style scoped>\n",
       "    .dataframe tbody tr th:only-of-type {\n",
       "        vertical-align: middle;\n",
       "    }\n",
       "\n",
       "    .dataframe tbody tr th {\n",
       "        vertical-align: top;\n",
       "    }\n",
       "\n",
       "    .dataframe thead th {\n",
       "        text-align: right;\n",
       "    }\n",
       "</style>\n",
       "<table border=\"1\" class=\"dataframe\">\n",
       "  <thead>\n",
       "    <tr style=\"text-align: right;\">\n",
       "      <th></th>\n",
       "      <th>Country</th>\n",
       "      <th>Confirmed</th>\n",
       "      <th>Deaths</th>\n",
       "      <th>Recovered</th>\n",
       "      <th>Active</th>\n",
       "      <th>New Cases</th>\n",
       "      <th>Deaths / 100 Cases</th>\n",
       "      <th>Recovered / 100 Cases</th>\n",
       "      <th>Deaths / 100 Recovered</th>\n",
       "      <th>Population</th>\n",
       "      <th>Cases / Million People</th>\n",
       "      <th>Confirmed last week</th>\n",
       "      <th>1 week change</th>\n",
       "      <th>1 week % increase</th>\n",
       "    </tr>\n",
       "  </thead>\n",
       "  <tbody>\n",
       "    <tr>\n",
       "      <th>174</th>\n",
       "      <td>US</td>\n",
       "      <td>3117946</td>\n",
       "      <td>133290</td>\n",
       "      <td>969111</td>\n",
       "      <td>2015545</td>\n",
       "      <td>63247</td>\n",
       "      <td>4.27</td>\n",
       "      <td>31.08</td>\n",
       "      <td>13.75</td>\n",
       "      <td>330541757</td>\n",
       "      <td>9433.0</td>\n",
       "      <td>3647715</td>\n",
       "      <td>464816</td>\n",
       "      <td>12.74</td>\n",
       "    </tr>\n",
       "    <tr>\n",
       "      <th>23</th>\n",
       "      <td>Brazil</td>\n",
       "      <td>1755779</td>\n",
       "      <td>69184</td>\n",
       "      <td>1171447</td>\n",
       "      <td>515148</td>\n",
       "      <td>42619</td>\n",
       "      <td>3.94</td>\n",
       "      <td>66.72</td>\n",
       "      <td>5.91</td>\n",
       "      <td>422706534</td>\n",
       "      <td>4154.0</td>\n",
       "      <td>2046328</td>\n",
       "      <td>241147</td>\n",
       "      <td>11.78</td>\n",
       "    </tr>\n",
       "    <tr>\n",
       "      <th>178</th>\n",
       "      <td>United Kingdom</td>\n",
       "      <td>289154</td>\n",
       "      <td>44687</td>\n",
       "      <td>1378</td>\n",
       "      <td>243089</td>\n",
       "      <td>643</td>\n",
       "      <td>15.45</td>\n",
       "      <td>0.48</td>\n",
       "      <td>3242.89</td>\n",
       "      <td>134856358</td>\n",
       "      <td>2144.0</td>\n",
       "      <td>294803</td>\n",
       "      <td>4697</td>\n",
       "      <td>1.59</td>\n",
       "    </tr>\n",
       "    <tr>\n",
       "      <th>85</th>\n",
       "      <td>Italy</td>\n",
       "      <td>242363</td>\n",
       "      <td>34926</td>\n",
       "      <td>193978</td>\n",
       "      <td>13459</td>\n",
       "      <td>214</td>\n",
       "      <td>14.41</td>\n",
       "      <td>80.04</td>\n",
       "      <td>18.01</td>\n",
       "      <td>120822834</td>\n",
       "      <td>2006.0</td>\n",
       "      <td>243967</td>\n",
       "      <td>1623</td>\n",
       "      <td>0.67</td>\n",
       "    </tr>\n",
       "    <tr>\n",
       "      <th>113</th>\n",
       "      <td>Mexico</td>\n",
       "      <td>282283</td>\n",
       "      <td>33526</td>\n",
       "      <td>219628</td>\n",
       "      <td>29129</td>\n",
       "      <td>7280</td>\n",
       "      <td>11.88</td>\n",
       "      <td>77.80</td>\n",
       "      <td>15.26</td>\n",
       "      <td>255584572</td>\n",
       "      <td>1104.0</td>\n",
       "      <td>331298</td>\n",
       "      <td>46987</td>\n",
       "      <td>14.18</td>\n",
       "    </tr>\n",
       "    <tr>\n",
       "      <th>62</th>\n",
       "      <td>France</td>\n",
       "      <td>207356</td>\n",
       "      <td>29982</td>\n",
       "      <td>78295</td>\n",
       "      <td>99079</td>\n",
       "      <td>1284</td>\n",
       "      <td>14.46</td>\n",
       "      <td>37.76</td>\n",
       "      <td>38.29</td>\n",
       "      <td>68136441</td>\n",
       "      <td>3043.0</td>\n",
       "      <td>211943</td>\n",
       "      <td>5854</td>\n",
       "      <td>2.76</td>\n",
       "    </tr>\n",
       "    <tr>\n",
       "      <th>158</th>\n",
       "      <td>Spain</td>\n",
       "      <td>253056</td>\n",
       "      <td>28401</td>\n",
       "      <td>150376</td>\n",
       "      <td>74279</td>\n",
       "      <td>543</td>\n",
       "      <td>11.22</td>\n",
       "      <td>59.42</td>\n",
       "      <td>18.89</td>\n",
       "      <td>93691843</td>\n",
       "      <td>2701.0</td>\n",
       "      <td>260255</td>\n",
       "      <td>12166</td>\n",
       "      <td>4.67</td>\n",
       "    </tr>\n",
       "    <tr>\n",
       "      <th>79</th>\n",
       "      <td>India</td>\n",
       "      <td>793802</td>\n",
       "      <td>21604</td>\n",
       "      <td>495513</td>\n",
       "      <td>276685</td>\n",
       "      <td>26506</td>\n",
       "      <td>2.72</td>\n",
       "      <td>62.42</td>\n",
       "      <td>4.36</td>\n",
       "      <td>-2147483648</td>\n",
       "      <td>-370.0</td>\n",
       "      <td>1039084</td>\n",
       "      <td>297940</td>\n",
       "      <td>28.67</td>\n",
       "    </tr>\n",
       "    <tr>\n",
       "      <th>81</th>\n",
       "      <td>Iran</td>\n",
       "      <td>250458</td>\n",
       "      <td>12305</td>\n",
       "      <td>212176</td>\n",
       "      <td>25977</td>\n",
       "      <td>2079</td>\n",
       "      <td>4.91</td>\n",
       "      <td>84.72</td>\n",
       "      <td>5.80</td>\n",
       "      <td>83992953</td>\n",
       "      <td>2982.0</td>\n",
       "      <td>269440</td>\n",
       "      <td>17083</td>\n",
       "      <td>6.34</td>\n",
       "    </tr>\n",
       "    <tr>\n",
       "      <th>134</th>\n",
       "      <td>Peru</td>\n",
       "      <td>316448</td>\n",
       "      <td>11314</td>\n",
       "      <td>207802</td>\n",
       "      <td>97332</td>\n",
       "      <td>3537</td>\n",
       "      <td>3.58</td>\n",
       "      <td>65.67</td>\n",
       "      <td>5.44</td>\n",
       "      <td>65597846</td>\n",
       "      <td>4824.0</td>\n",
       "      <td>345537</td>\n",
       "      <td>30424</td>\n",
       "      <td>8.80</td>\n",
       "    </tr>\n",
       "    <tr>\n",
       "      <th>140</th>\n",
       "      <td>Russia</td>\n",
       "      <td>706240</td>\n",
       "      <td>10826</td>\n",
       "      <td>480494</td>\n",
       "      <td>214920</td>\n",
       "      <td>6491</td>\n",
       "      <td>1.53</td>\n",
       "      <td>68.04</td>\n",
       "      <td>2.25</td>\n",
       "      <td>292579178</td>\n",
       "      <td>2414.0</td>\n",
       "      <td>758001</td>\n",
       "      <td>41498</td>\n",
       "      <td>5.47</td>\n",
       "    </tr>\n",
       "    <tr>\n",
       "      <th>16</th>\n",
       "      <td>Belgium</td>\n",
       "      <td>62210</td>\n",
       "      <td>9778</td>\n",
       "      <td>17159</td>\n",
       "      <td>35273</td>\n",
       "      <td>87</td>\n",
       "      <td>15.72</td>\n",
       "      <td>27.58</td>\n",
       "      <td>56.98</td>\n",
       "      <td>11589616</td>\n",
       "      <td>5368.0</td>\n",
       "      <td>63499</td>\n",
       "      <td>1700</td>\n",
       "      <td>2.68</td>\n",
       "    </tr>\n",
       "    <tr>\n",
       "      <th>66</th>\n",
       "      <td>Germany</td>\n",
       "      <td>199001</td>\n",
       "      <td>9057</td>\n",
       "      <td>183728</td>\n",
       "      <td>6216</td>\n",
       "      <td>302</td>\n",
       "      <td>4.55</td>\n",
       "      <td>92.33</td>\n",
       "      <td>4.93</td>\n",
       "      <td>166803158</td>\n",
       "      <td>1193.0</td>\n",
       "      <td>202045</td>\n",
       "      <td>3578</td>\n",
       "      <td>1.77</td>\n",
       "    </tr>\n",
       "    <tr>\n",
       "      <th>32</th>\n",
       "      <td>Canada</td>\n",
       "      <td>108656</td>\n",
       "      <td>8797</td>\n",
       "      <td>72095</td>\n",
       "      <td>27764</td>\n",
       "      <td>322</td>\n",
       "      <td>8.10</td>\n",
       "      <td>66.35</td>\n",
       "      <td>12.20</td>\n",
       "      <td>75711404</td>\n",
       "      <td>1435.0</td>\n",
       "      <td>111559</td>\n",
       "      <td>3556</td>\n",
       "      <td>3.19</td>\n",
       "    </tr>\n",
       "    <tr>\n",
       "      <th>35</th>\n",
       "      <td>Chile</td>\n",
       "      <td>306216</td>\n",
       "      <td>6682</td>\n",
       "      <td>274922</td>\n",
       "      <td>24612</td>\n",
       "      <td>3133</td>\n",
       "      <td>2.18</td>\n",
       "      <td>89.78</td>\n",
       "      <td>2.43</td>\n",
       "      <td>36692988</td>\n",
       "      <td>8345.0</td>\n",
       "      <td>326439</td>\n",
       "      <td>14865</td>\n",
       "      <td>4.55</td>\n",
       "    </tr>\n",
       "  </tbody>\n",
       "</table>\n",
       "</div>"
      ],
      "text/plain": [
       "            Country  Confirmed  Deaths  Recovered   Active  New Cases  \\\n",
       "174              US    3117946  133290     969111  2015545      63247   \n",
       "23           Brazil    1755779   69184    1171447   515148      42619   \n",
       "178  United Kingdom     289154   44687       1378   243089        643   \n",
       "85            Italy     242363   34926     193978    13459        214   \n",
       "113          Mexico     282283   33526     219628    29129       7280   \n",
       "62           France     207356   29982      78295    99079       1284   \n",
       "158           Spain     253056   28401     150376    74279        543   \n",
       "79            India     793802   21604     495513   276685      26506   \n",
       "81             Iran     250458   12305     212176    25977       2079   \n",
       "134            Peru     316448   11314     207802    97332       3537   \n",
       "140          Russia     706240   10826     480494   214920       6491   \n",
       "16          Belgium      62210    9778      17159    35273         87   \n",
       "66          Germany     199001    9057     183728     6216        302   \n",
       "32           Canada     108656    8797      72095    27764        322   \n",
       "35            Chile     306216    6682     274922    24612       3133   \n",
       "\n",
       "     Deaths / 100 Cases  Recovered / 100 Cases  Deaths / 100 Recovered  \\\n",
       "174                4.27                  31.08                   13.75   \n",
       "23                 3.94                  66.72                    5.91   \n",
       "178               15.45                   0.48                 3242.89   \n",
       "85                14.41                  80.04                   18.01   \n",
       "113               11.88                  77.80                   15.26   \n",
       "62                14.46                  37.76                   38.29   \n",
       "158               11.22                  59.42                   18.89   \n",
       "79                 2.72                  62.42                    4.36   \n",
       "81                 4.91                  84.72                    5.80   \n",
       "134                3.58                  65.67                    5.44   \n",
       "140                1.53                  68.04                    2.25   \n",
       "16                15.72                  27.58                   56.98   \n",
       "66                 4.55                  92.33                    4.93   \n",
       "32                 8.10                  66.35                   12.20   \n",
       "35                 2.18                  89.78                    2.43   \n",
       "\n",
       "     Population  Cases / Million People  Confirmed last week  1 week change  \\\n",
       "174   330541757                  9433.0              3647715         464816   \n",
       "23    422706534                  4154.0              2046328         241147   \n",
       "178   134856358                  2144.0               294803           4697   \n",
       "85    120822834                  2006.0               243967           1623   \n",
       "113   255584572                  1104.0               331298          46987   \n",
       "62     68136441                  3043.0               211943           5854   \n",
       "158    93691843                  2701.0               260255          12166   \n",
       "79  -2147483648                  -370.0              1039084         297940   \n",
       "81     83992953                  2982.0               269440          17083   \n",
       "134    65597846                  4824.0               345537          30424   \n",
       "140   292579178                  2414.0               758001          41498   \n",
       "16     11589616                  5368.0                63499           1700   \n",
       "66    166803158                  1193.0               202045           3578   \n",
       "32     75711404                  1435.0               111559           3556   \n",
       "35     36692988                  8345.0               326439          14865   \n",
       "\n",
       "     1 week % increase  \n",
       "174              12.74  \n",
       "23               11.78  \n",
       "178               1.59  \n",
       "85                0.67  \n",
       "113              14.18  \n",
       "62                2.76  \n",
       "158               4.67  \n",
       "79               28.67  \n",
       "81                6.34  \n",
       "134               8.80  \n",
       "140               5.47  \n",
       "16                2.68  \n",
       "66                1.77  \n",
       "32                3.19  \n",
       "35                4.55  "
      ]
     },
     "execution_count": 5,
     "metadata": {},
     "output_type": "execute_result"
    }
   ],
   "source": [
    "countrywise.sort_values('Deaths', ascending =False).iloc[:15, :]"
   ]
  },
  {
   "cell_type": "code",
   "execution_count": null,
   "metadata": {},
   "outputs": [],
   "source": []
  }
 ],
 "metadata": {
  "kernelspec": {
   "display_name": "Python 3",
   "language": "python",
   "name": "python3"
  },
  "language_info": {
   "codemirror_mode": {
    "name": "ipython",
    "version": 3
   },
   "file_extension": ".py",
   "mimetype": "text/x-python",
   "name": "python",
   "nbconvert_exporter": "python",
   "pygments_lexer": "ipython3",
   "version": "3.7.6"
  }
 },
 "nbformat": 4,
 "nbformat_minor": 4
}
